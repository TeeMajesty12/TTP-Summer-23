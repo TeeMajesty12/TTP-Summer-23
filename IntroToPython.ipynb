{
  "nbformat": 4,
  "nbformat_minor": 0,
  "metadata": {
    "colab": {
      "provenance": [],
      "authorship_tag": "ABX9TyP7GxIEOwfSHy8lD3z76BDC",
      "include_colab_link": true
    },
    "kernelspec": {
      "name": "python3",
      "display_name": "Python 3"
    },
    "language_info": {
      "name": "python"
    }
  },
  "cells": [
    {
      "cell_type": "markdown",
      "metadata": {
        "id": "view-in-github",
        "colab_type": "text"
      },
      "source": [
        "<a href=\"https://colab.research.google.com/github/TeeMajesty12/TTP-Summer-23/blob/main/IntroToPython.ipynb\" target=\"_parent\"><img src=\"https://colab.research.google.com/assets/colab-badge.svg\" alt=\"Open In Colab\"/></a>"
      ]
    },
    {
      "cell_type": "markdown",
      "source": [
        "## Python Basics"
      ],
      "metadata": {
        "id": "03Hyw5qyduXW"
      }
    },
    {
      "cell_type": "code",
      "source": [
        "print(\"Hello World\")"
      ],
      "metadata": {
        "colab": {
          "base_uri": "https://localhost:8080/"
        },
        "id": "H3prvfmOI6eI",
        "outputId": "33e47cdc-ee98-4ffe-bee7-07006c53d540"
      },
      "execution_count": 3,
      "outputs": [
        {
          "output_type": "stream",
          "name": "stdout",
          "text": [
            "Hello World\n"
          ]
        }
      ]
    },
    {
      "cell_type": "markdown",
      "source": [
        "# Strings # the \"print()\""
      ],
      "metadata": {
        "id": "zInCUU31NLJa"
      }
    },
    {
      "cell_type": "code",
      "source": [
        "print(\"\\n\\t This Is The Tab Line\\nThis Is A Regular Line\")\n",
        "\n",
        "## Using the print function to output two lines. \n",
        "## One has a tab which was incorperated by using backslash t\n",
        "## New line created by using backslash n"
      ],
      "metadata": {
        "colab": {
          "base_uri": "https://localhost:8080/"
        },
        "id": "IXccpuDVJzLi",
        "outputId": "69018cda-c2a5-4def-fd8c-5281a0d92a27"
      },
      "execution_count": 4,
      "outputs": [
        {
          "output_type": "stream",
          "name": "stdout",
          "text": [
            "\n",
            "\t This Is The Tab Line\n",
            "This Is A Regular Line\n"
          ]
        }
      ]
    },
    {
      "cell_type": "code",
      "source": [
        "print(\"first name \" + 'last name')\n",
        "\n",
        "## \"\" or '' could be used to hold the phrase of the output\n",
        "## \"+\" puts it together. Similar to a \">>\" in c++\n"
      ],
      "metadata": {
        "colab": {
          "base_uri": "https://localhost:8080/"
        },
        "id": "4IUMK5ogKNMl",
        "outputId": "d70f2afe-80e9-48b8-9add-5554cbe6bf49"
      },
      "execution_count": 1,
      "outputs": [
        {
          "output_type": "stream",
          "name": "stdout",
          "text": [
            "first name last name\n"
          ]
        }
      ]
    },
    {
      "cell_type": "markdown",
      "source": [
        "# Variable"
      ],
      "metadata": {
        "id": "tBJPq-meMbMb"
      }
    },
    {
      "cell_type": "code",
      "source": [
        "dogs = 3\n",
        "cats = \"Many Of These Cats\"\n",
        "\n",
        "## declaring basic variables"
      ],
      "metadata": {
        "id": "8E8N2GRAMju_"
      },
      "execution_count": null,
      "outputs": []
    },
    {
      "cell_type": "markdown",
      "source": [
        "## More Strings"
      ],
      "metadata": {
        "id": "V6gnqTzqNy42"
      }
    },
    {
      "cell_type": "code",
      "source": [
        "greeting = \"Hello World!\" ; "
      ],
      "metadata": {
        "id": "d4DilXBoN1p_"
      },
      "execution_count": 6,
      "outputs": []
    },
    {
      "cell_type": "code",
      "source": [
        "print(greeting[3])\n",
        "print(greeting[6])\n",
        "print(greeting[2])\n",
        "\n",
        "## This Prints Out The Individual Letter Of The Greeting\n",
        "## The number inside the array dictates what character is going to be printed\n",
        "## Based in the space. \n",
        "## So greeting for the array with the number 3, holds the third letter in the output"
      ],
      "metadata": {
        "colab": {
          "base_uri": "https://localhost:8080/"
        },
        "id": "cpQ3vBi8OAnE",
        "outputId": "841aae61-61e4-4f4f-eff8-1b14ee31dea9"
      },
      "execution_count": 12,
      "outputs": [
        {
          "output_type": "stream",
          "name": "stdout",
          "text": [
            "l\n",
            "W\n",
            "l\n"
          ]
        }
      ]
    },
    {
      "cell_type": "code",
      "source": [
        "greeting[-1]\n",
        "\n",
        "## Using \"-1\" Will Automatically Print The Last Letter (Or Character) Of The Greeting.\n",
        "## \"-1\" Basically Just Means To Start From The End"
      ],
      "metadata": {
        "colab": {
          "base_uri": "https://localhost:8080/",
          "height": 35
        },
        "id": "fFKlEJcUOAdT",
        "outputId": "764ed6ff-aa7e-4e90-ba9b-754c9d30dad0"
      },
      "execution_count": 13,
      "outputs": [
        {
          "output_type": "execute_result",
          "data": {
            "text/plain": [
              "'!'"
            ],
            "application/vnd.google.colaboratory.intrinsic+json": {
              "type": "string"
            }
          },
          "metadata": {},
          "execution_count": 13
        }
      ]
    },
    {
      "cell_type": "code",
      "source": [],
      "metadata": {
        "id": "LCck0IOvOAPP"
      },
      "execution_count": null,
      "outputs": []
    },
    {
      "cell_type": "markdown",
      "source": [
        "## String Formatting"
      ],
      "metadata": {
        "id": "opZ9pImUP1yr"
      }
    },
    {
      "cell_type": "code",
      "source": [
        "price = 59.99\n",
        "## Declared the variable \"price\""
      ],
      "metadata": {
        "id": "ieYmilwzP4Ic"
      },
      "execution_count": null,
      "outputs": []
    },
    {
      "cell_type": "code",
      "source": [
        "message = \"The Product Costs \" + str(price) + \"Dollars\"\n",
        "print(message)\n",
        "\n",
        "## I added \"str()\" to the price because float and strings can't compile together\n",
        "## The float number can't be by itself because it's a number , so have to format it.\n",
        "## Declared the variable \"message\"\n",
        "## \"\" or '' could be used\n",
        "## \"+\" is the equivelent of \">>\" in c++, basically putting things together"
      ],
      "metadata": {
        "id": "yZ_nCeXgP-GG"
      },
      "execution_count": null,
      "outputs": []
    },
    {
      "cell_type": "markdown",
      "source": [
        "## The .format() method!!"
      ],
      "metadata": {
        "id": "8q1_EpTHROuY"
      }
    },
    {
      "cell_type": "code",
      "source": [
        "price = 59.99\n",
        "msg = \"The product cost {} dollars \" .format(price)\n",
        "print(msg)\n",
        "\n",
        "# Declared \"price\" and \"msg\"\n",
        "## Using the .format() method to place price in the msg\n",
        "\n",
        "## Also, helps if the price changes, the value of the price will be updated in the output without ...\n",
        "## having to change it invidually"
      ],
      "metadata": {
        "colab": {
          "base_uri": "https://localhost:8080/"
        },
        "id": "eoGk35N6Qqwp",
        "outputId": "b232184d-9a58-4101-cc70-8f6c590e6786"
      },
      "execution_count": 17,
      "outputs": [
        {
          "output_type": "stream",
          "name": "stdout",
          "text": [
            "The product cost 59.99 dollars \n"
          ]
        }
      ]
    },
    {
      "cell_type": "code",
      "source": [
        "amount = 3\n",
        "total = amount * price\n",
        "\n",
        "## Declared the amount and total\n",
        "\n",
        "msg2 = \"For {} Products at the price of {}, the total will be: {}\"\n",
        "\n",
        "print(msg2.format(amount, price, total))\n",
        "\n",
        "## msg2 is declared \n",
        "## Curly brackets inserted at the places in the output , where it will represent a value\n",
        "## Using the .format() method again, when its printing msg2, in () you put , in order, what was\n",
        "## what value each bracket is suppose to hold"
      ],
      "metadata": {
        "colab": {
          "base_uri": "https://localhost:8080/"
        },
        "id": "iUky-Z5FRUU8",
        "outputId": "ac4f18f5-0c70-40a3-ced5-8d5a326ad8e5"
      },
      "execution_count": 19,
      "outputs": [
        {
          "output_type": "stream",
          "name": "stdout",
          "text": [
            "For 3 Products at the price of 59.99, the total will be: 179.97\n"
          ]
        }
      ]
    },
    {
      "cell_type": "code",
      "source": [
        "price = 29.99\n",
        "amount = 3\n",
        "total = amount * price\n",
        "\n",
        "## Declaration of price, amount and total\n",
        "\n",
        "msg3 = \"For {2} products at the price of {0}, the total is {1}\"\n",
        "\n",
        "## defining the output for msg3\n",
        "## msg3 has curly brackets with numbers inside\n",
        "## The number inside the curly brackets indicate the variable in the .format()...\n",
        "## that's suppose to be there, similar to an array\n",
        "\n",
        "print(msg3.format(price, total, amount,))\n",
        "\n"
      ],
      "metadata": {
        "colab": {
          "base_uri": "https://localhost:8080/"
        },
        "id": "YXAH1zmKSxri",
        "outputId": "2145051e-9f41-490f-e682-28a1d20d21aa"
      },
      "execution_count": null,
      "outputs": [
        {
          "output_type": "stream",
          "name": "stdout",
          "text": [
            "For 3 products at the price of 29.99, the total is 89.97\n"
          ]
        }
      ]
    },
    {
      "cell_type": "markdown",
      "source": [
        "## The f-string method!!!\n"
      ],
      "metadata": {
        "id": "Y7UxBECRTN6g"
      }
    },
    {
      "cell_type": "code",
      "source": [
        "price = 19.99\n",
        "items = 3\n",
        "\n",
        "#Declare variables \"price\" and \"items\""
      ],
      "metadata": {
        "id": "b5-k5jPBTUXN"
      },
      "execution_count": null,
      "outputs": []
    },
    {
      "cell_type": "code",
      "source": [
        "msg = f\"This individual product is {price}\"\n",
        "print(msg)\n",
        "\n",
        "## f string method in use. \n",
        "## Simply place the f at the beginning of the message to format\n",
        "## Plug the variable you want to use into the curly brackets"
      ],
      "metadata": {
        "colab": {
          "base_uri": "https://localhost:8080/"
        },
        "id": "PI0V0GAPTZS0",
        "outputId": "e0b86ded-8626-45da-ebfb-9b1c4f66c57a"
      },
      "execution_count": 26,
      "outputs": [
        {
          "output_type": "stream",
          "name": "stdout",
          "text": [
            "This individual product is 59.99\n"
          ]
        }
      ]
    }
  ]
}